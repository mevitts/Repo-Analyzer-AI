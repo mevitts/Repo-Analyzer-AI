{
 "cells": [
  {
   "cell_type": "code",
   "execution_count": null,
   "id": "24cb7af6",
   "metadata": {},
   "outputs": [
    {
     "name": "stdout",
     "output_type": "stream",
     "text": [
      "PYTHONPATH set to: c:\\Users\\marte\\OneDrive\\Desktop\\Nueva_carpeta\\agents\\Repo-Analyzer-AI\n"
     ]
    }
   ],
   "source": [
    "# Cell 1: Setup\n",
    "import os\n",
    "import sys\n",
    "sys.path.append('../src')\n",
    "os.environ['PYTHONPATH'] = os.path.abspath('..')\n",
    "print('PYTHONPATH set to:', os.environ['PYTHONPATH'])"
   ]
  },
  {
   "cell_type": "code",
   "execution_count": null,
   "id": "b0270ea2",
   "metadata": {},
   "outputs": [],
   "source": [
    "# Run test_complete_flow.py (manual test)\n",
    "!python test_complete_flow.py\n",
    "\n",
    "# Run test_summarization_utils.py (manual test)\n",
    "!python test_summarization_utils.py"
   ]
  }
 ],
 "metadata": {
  "kernelspec": {
   "display_name": "venv",
   "language": "python",
   "name": "python3"
  },
  "language_info": {
   "codemirror_mode": {
    "name": "ipython",
    "version": 3
   },
   "file_extension": ".py",
   "mimetype": "text/x-python",
   "name": "python",
   "nbconvert_exporter": "python",
   "pygments_lexer": "ipython3",
   "version": "3.13.5"
  }
 },
 "nbformat": 4,
 "nbformat_minor": 5
}
