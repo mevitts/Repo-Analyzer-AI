{
 "cells": [
  {
   "cell_type": "code",
   "execution_count": 1,
   "id": "24cb7af6",
   "metadata": {},
   "outputs": [
    {
     "name": "stdout",
     "output_type": "stream",
     "text": [
      "PYTHONPATH set to: c:\\Users\\marte\\OneDrive\\Desktop\\Nueva_carpeta\\agents\\Repo-Analyzer-AI\n"
     ]
    }
   ],
   "source": [
    "# Cell 1: Setup\n",
    "import os\n",
    "import sys\n",
    "sys.path.append('../src')\n",
    "os.environ['PYTHONPATH'] = os.path.abspath('..')\n",
    "print('PYTHONPATH set to:', os.environ['PYTHONPATH'])"
   ]
  },
  {
   "cell_type": "markdown",
   "id": "b0270ea2",
   "metadata": {},
   "source": [
    "# Run test_complete_flow.py (manual test)\n",
    "!python test_complete_flow.py\n",
    "#PASSED\n"
   ]
  },
  {
   "cell_type": "code",
   "execution_count": 3,
   "id": "758140fd",
   "metadata": {},
   "outputs": [
    {
     "name": "stderr",
     "output_type": "stream",
     "text": [
      ".c:\\Users\\marte\\OneDrive\\Desktop\\Nueva_carpeta\\agents\\Repo-Analyzer-AI\\venv\\Lib\\site-packages\\umap\\umap_.py:1952: UserWarning: n_jobs value 1 overridden to 1 by setting random_state. Use no seed for parallelism.\n",
      "  warn(\n",
      "c:\\Users\\marte\\OneDrive\\Desktop\\Nueva_carpeta\\agents\\Repo-Analyzer-AI\\venv\\Lib\\site-packages\\umap\\umap_.py:2462: UserWarning: n_neighbors is larger than the dataset size; truncating to X.shape[0] - 1\n",
      "  warn(\n",
      ".......\n",
      "----------------------------------------------------------------------\n",
      "Ran 8 tests in 14.927s\n",
      "\n",
      "OK\n"
     ]
    }
   ],
   "source": [
    "\n",
    "# Run test_summarization_utils.py (manual test)\n",
    "!python test_summarization_utils.py"
   ]
  },
  {
   "cell_type": "code",
   "execution_count": null,
   "id": "5c879248",
   "metadata": {},
   "outputs": [],
   "source": []
  }
 ],
 "metadata": {
  "kernelspec": {
   "display_name": "venv",
   "language": "python",
   "name": "python3"
  },
  "language_info": {
   "codemirror_mode": {
    "name": "ipython",
    "version": 3
   },
   "file_extension": ".py",
   "mimetype": "text/x-python",
   "name": "python",
   "nbconvert_exporter": "python",
   "pygments_lexer": "ipython3",
   "version": "3.13.5"
  }
 },
 "nbformat": 4,
 "nbformat_minor": 5
}
